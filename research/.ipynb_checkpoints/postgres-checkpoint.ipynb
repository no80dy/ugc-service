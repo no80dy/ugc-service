{
 "cells": [
  {
   "cell_type": "markdown",
   "source": [
    "### Исследование производительности работы с PostgreSQL"
   ],
   "metadata": {
    "collapsed": false
   },
   "id": "5509ee9eb7d427b4"
  },
  {
   "cell_type": "code",
   "outputs": [],
   "source": [
    "import asyncpg"
   ],
   "metadata": {
    "collapsed": false,
    "ExecuteTime": {
     "end_time": "2024-01-22T10:14:03.117935600Z",
     "start_time": "2024-01-22T10:14:03.023275400Z"
    }
   },
   "id": "36664e5a27213fdd",
   "execution_count": 1
  },
  {
   "cell_type": "code",
   "outputs": [],
   "source": [
    "POSTGRESQL_DSN = 'postgresql+asyncpg://postgres@localhost/moviesdb'\n",
    "connection = await asyncpg.connect(POSTGRESQL_DSN)"
   ],
   "metadata": {
    "collapsed": false,
    "ExecuteTime": {
     "end_time": "2024-01-22T10:14:06.104378900Z",
     "start_time": "2024-01-22T10:14:06.091216300Z"
    }
   },
   "id": "62de7466cd54568f",
   "execution_count": 2
  },
  {
   "cell_type": "code",
   "execution_count": 3,
   "id": "initial_id",
   "metadata": {
    "collapsed": true,
    "ExecuteTime": {
     "end_time": "2024-01-22T10:14:08.370470600Z",
     "start_time": "2024-01-22T10:14:08.354347Z"
    }
   },
   "outputs": [
    {
     "ename": "AttributeError",
     "evalue": "'coroutine' object has no attribute 'execute'",
     "output_type": "error",
     "traceback": [
      "\u001B[0;31m---------------------------------------------------------------------------\u001B[0m",
      "\u001B[0;31mAttributeError\u001B[0m                            Traceback (most recent call last)",
      "Cell \u001B[0;32mIn[3], line 1\u001B[0m\n\u001B[0;32m----> 1\u001B[0m \u001B[38;5;28;01mawait\u001B[39;00m connection\u001B[38;5;241m.\u001B[39mexecute(\u001B[38;5;124m'''\u001B[39m\n\u001B[1;32m      2\u001B[0m \u001B[38;5;124m    CREATE TABLE IF NOT EXISTS movies(\u001B[39m\n\u001B[1;32m      3\u001B[0m \u001B[38;5;124m        id UUID PRIMARY KEY,\u001B[39m\n\u001B[1;32m      4\u001B[0m \u001B[38;5;124m        event_name VARCHAR(255) NOT NULL,\u001B[39m\n\u001B[1;32m      5\u001B[0m \u001B[38;5;124m        movie_id VARCHAR(255) NOT NULL,\u001B[39m\n\u001B[1;32m      6\u001B[0m \u001B[38;5;124m        user_id VARCHAR(255) NOT NULL,\u001B[39m\n\u001B[1;32m      7\u001B[0m \u001B[38;5;124m        score INT\u001B[39m\n\u001B[1;32m      8\u001B[0m \u001B[38;5;124m    )\u001B[39m\n\u001B[1;32m      9\u001B[0m \u001B[38;5;124m'''\u001B[39m)\n",
      "\u001B[0;31mAttributeError\u001B[0m: 'coroutine' object has no attribute 'execute'"
     ]
    }
   ],
   "source": [
    "await connection.execute('''\n",
    "    CREATE TABLE IF NOT EXISTS movies(\n",
    "        id UUID PRIMARY KEY,\n",
    "        event_name VARCHAR(255) NOT NULL,\n",
    "        movie_id VARCHAR(255) NOT NULL,\n",
    "        user_id VARCHAR(255) NOT NULL,\n",
    "        score INT\n",
    "    )\n",
    "''')"
   ]
  },
  {
   "cell_type": "code",
   "outputs": [],
   "source": [],
   "metadata": {
    "collapsed": false
   },
   "id": "81e7d46ce437654"
  }
 ],
 "metadata": {
  "kernelspec": {
   "display_name": "Python 3",
   "language": "python",
   "name": "python3"
  },
  "language_info": {
   "codemirror_mode": {
    "name": "ipython",
    "version": 2
   },
   "file_extension": ".py",
   "mimetype": "text/x-python",
   "name": "python",
   "nbconvert_exporter": "python",
   "pygments_lexer": "ipython2",
   "version": "2.7.6"
  }
 },
 "nbformat": 4,
 "nbformat_minor": 5
}
