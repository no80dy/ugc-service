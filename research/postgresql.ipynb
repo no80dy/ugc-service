{
 "cells": [
  {
   "cell_type": "markdown",
   "id": "5509ee9eb7d427b4",
   "metadata": {
    "collapsed": false
   },
   "source": [
    "### Исследование производительности работы с PostgreSQL"
   ]
  },
  {
   "cell_type": "code",
   "execution_count": 8,
   "id": "36664e5a27213fdd",
   "metadata": {
    "collapsed": false,
    "ExecuteTime": {
     "end_time": "2024-01-22T19:39:38.064598300Z",
     "start_time": "2024-01-22T19:39:38.045388900Z"
    }
   },
   "outputs": [],
   "source": [
    "import time\n",
    "import uuid\n",
    "import asyncpg\n",
    "\n",
    "from functools import wraps\n",
    "from random import randint, choice\n",
    "from typing import Any\n",
    "from asyncpg.connection import Connection as AsyncpgConnection"
   ]
  },
  {
   "cell_type": "code",
   "execution_count": 9,
   "id": "62de7466cd54568f",
   "metadata": {
    "collapsed": false,
    "ExecuteTime": {
     "end_time": "2024-01-22T19:39:38.094670700Z",
     "start_time": "2024-01-22T19:39:38.077310900Z"
    }
   },
   "outputs": [],
   "source": [
    "POSTGRESQL_DSN = 'postgresql://postgres@localhost/moviesdb'\n",
    "connection: AsyncpgConnection = await asyncpg.connect(POSTGRESQL_DSN)"
   ]
  },
  {
   "cell_type": "code",
   "execution_count": 10,
   "id": "1f2cdb9b-3a30-41c4-ab5d-c6a31f1f5d99",
   "metadata": {
    "ExecuteTime": {
     "end_time": "2024-01-22T19:39:38.135440700Z",
     "start_time": "2024-01-22T19:39:38.102966300Z"
    }
   },
   "outputs": [],
   "source": [
    "def benchmark(operation: str):\n",
    "    def decorator(func):\n",
    "        @wraps(func)\n",
    "        async def wrapper(*args, **kwargs):\n",
    "            start_time = time.perf_counter()\n",
    "            func_result = await func(*args, **kwargs)\n",
    "            end_time = time.perf_counter()\n",
    "            avg_time = end_time - start_time\n",
    "            print(f\"Время выполнения функции {operation} заняло {avg_time} cек.\")\n",
    "            return func_result\n",
    "        return wrapper\n",
    "    return decorator"
   ]
  },
  {
   "cell_type": "code",
   "execution_count": 11,
   "id": "initial_id",
   "metadata": {
    "ExecuteTime": {
     "end_time": "2024-01-22T19:39:38.139922Z",
     "start_time": "2024-01-22T19:39:38.119678900Z"
    }
   },
   "outputs": [
    {
     "data": {
      "text/plain": "'CREATE TABLE'"
     },
     "execution_count": 11,
     "metadata": {},
     "output_type": "execute_result"
    }
   ],
   "source": [
    "await connection.execute('''\n",
    "    CREATE TABLE IF NOT EXISTS movies(\n",
    "        id UUID PRIMARY KEY,\n",
    "        event_name VARCHAR(255) NOT NULL,\n",
    "        movie_id UUID NOT NULL,\n",
    "        user_id UUID NOT NULL,\n",
    "        score INT\n",
    "    )\n",
    "''')"
   ]
  },
  {
   "cell_type": "code",
   "execution_count": 12,
   "id": "81e7d46ce437654",
   "metadata": {
    "collapsed": false,
    "ExecuteTime": {
     "end_time": "2024-01-22T19:39:38.195352Z",
     "start_time": "2024-01-22T19:39:38.148962900Z"
    }
   },
   "outputs": [],
   "source": [
    "def generate_like() -> dict:\n",
    "    return {\n",
    "        'id': uuid.uuid4(),\n",
    "        'event_name': 'like',\n",
    "        'user_id': uuid.uuid4(),\n",
    "        'movie_id': uuid.uuid4(),\n",
    "        'score': randint(0, 10),\n",
    "\t}\n",
    "\n",
    "\n",
    "def generate_bookmark() -> dict:\n",
    "    return {\n",
    "        'id': uuid.uuid4(),\n",
    "        'event_name': 'bookmark',\n",
    "        'user_id': uuid.uuid4(),\n",
    "        'movie_id': uuid.uuid4(),\n",
    "        'score': None,\n",
    "\t}\n",
    "\n",
    "\n",
    "async def clear_table(\n",
    "    table_name: str\n",
    "):\n",
    "    await connection.execute(f'''\n",
    "        DELETE FROM public.{table_name}\n",
    "    ''')\n",
    "\n",
    "\n",
    "async def insert_rows_in_movies_table(\n",
    "    rows: list[dict]\n",
    ") -> None:\n",
    "    column_names = ', '.join(rows[0].keys())\n",
    "    column_values = [tuple(row.values()) for row in rows]\n",
    "    placeholders = ', '.join(\n",
    "        ['$' + str(i+1) for i in range(len(rows[0].keys()))]\n",
    "    )\n",
    "\n",
    "    await connection.executemany(f'''\n",
    "        INSERT INTO public.movies ({column_names})\n",
    "        VALUES ({placeholders})\n",
    "    ''', column_values)\n",
    "\n",
    "\n",
    "async def insert_row_in_movies_table(\n",
    "    row: dict\n",
    ") -> None:\n",
    "    column_names = ', '.join(row.keys())\n",
    "    column_values = tuple(row.values())\n",
    "    placeholders = ', '.join(\n",
    "        ['$' + str(i+1) for i in range(len(row.keys()))]\n",
    "    )\n",
    "\n",
    "    await connection.execute(f'''\n",
    "        INSERT INTO public.movies ({column_names})\n",
    "        VALUES ({placeholders})\n",
    "    ''', *column_values)\n",
    "\n",
    "\n",
    "async def get_random_rows(\n",
    "    event_name: str,\n",
    "    events_count: int = 10\n",
    ") -> list[asyncpg.Record]:\n",
    "    return await connection.fetch(f'''\n",
    "        SELECT * FROM public.movies\n",
    "        WHERE event_name = $1\n",
    "        ORDER BY random()\n",
    "        LIMIT {events_count}\n",
    "    ''', event_name)\n",
    "\n",
    "\n",
    "async def generate_data_in_postgresql(\n",
    "    generator: Any,\n",
    "    rows_count: int,\n",
    "    batch_size: int = 100\n",
    ") -> None:\n",
    "    rows = []\n",
    "    for _ in range(rows_count):\n",
    "        rows.append(generator())\n",
    "        if len(rows) >= batch_size:\n",
    "            await insert_rows_in_movies_table(rows)\n",
    "            rows.clear()\n",
    "    if rows:\n",
    "        await insert_rows_in_movies_table(rows)"
   ]
  },
  {
   "cell_type": "code",
   "outputs": [],
   "source": [
    "@benchmark(operation='Получение количества лайков для конкретного фильма')\n",
    "async def get_count_of_likes_for_movie(\n",
    "    movie_id: uuid.UUID\n",
    ") -> asyncpg.Record:\n",
    "    return await connection.fetch('''\n",
    "        SELECT COUNT(*) FROM public.movies\n",
    "        WHERE event_name='like' AND movie_id = $1\n",
    "    ''', movie_id)\n",
    "\n",
    "\n",
    "@benchmark(operation='Получение списка закладок для рандомного пользователя')\n",
    "async def get_user_bookmarks(\n",
    "    user_id: uuid.UUID,\n",
    ") -> list[asyncpg.Record]:\n",
    "    return await connection.fetch('''\n",
    "        SELECT * FROM public.movies\n",
    "        WHERE event_name = 'bookmark' AND user_id = $1\n",
    "    ''', user_id)\n",
    "\n",
    "\n",
    "@benchmark(operation='Добавление лайка пользователя к фильму')\n",
    "async def add_like_to_movie(\n",
    "    user_id: uuid.UUID,\n",
    "    movie_id: uuid.UUID\n",
    ") -> None:\n",
    "    await insert_row_in_movies_table(\n",
    "\t\t{\n",
    "            'id': uuid.uuid4(),\n",
    "            'event_name': 'like',\n",
    "            'user_id': user_id,\n",
    "            'movie_id': movie_id,\n",
    "            'score': randint(0, 10)\n",
    "        }\n",
    "    )\n",
    "\n",
    "\n",
    "@benchmark(operation='Удаление лайка пользователя для фильма')\n",
    "async def delete_like_from_movie(\n",
    "    user_id: uuid.UUID,\n",
    "    movie_id: uuid.UUID\n",
    ") -> None:\n",
    "    await connection.execute('''\n",
    "        DELETE FROM public.movies\n",
    "        WHERE event_name = 'like' AND user_id = $1 AND movie_id = $2\n",
    "    ''', user_id, movie_id)"
   ],
   "metadata": {
    "collapsed": false,
    "ExecuteTime": {
     "end_time": "2024-01-22T19:39:38.197384200Z",
     "start_time": "2024-01-22T19:39:38.159500400Z"
    }
   },
   "id": "ec22bbbd78b6e67f",
   "execution_count": 13
  },
  {
   "cell_type": "code",
   "outputs": [
    {
     "name": "stdout",
     "output_type": "stream",
     "text": [
      "Время выполнения функции Получение количества лайков для конкретного фильма заняло 0.2144864330002747 cек.\n",
      "Время выполнения функции Получение списка закладок для рандомного пользователя заняло 0.2084355590013729 cек.\n",
      "Время выполнения функции Добавление лайка пользователя к фильму заняло 0.004707498999778181 cек.\n",
      "Время выполнения функции Удаление лайка пользователя для фильма заняло 0.5311659250000957 cек.\n"
     ]
    }
   ],
   "source": [
    "await clear_table('movies')\n",
    "for _ in range(100):\n",
    "    await generate_data_in_postgresql(generate_like, 25_000, 25_000)\n",
    "    await generate_data_in_postgresql(generate_bookmark, 25_000, 25_000)\n",
    "\n",
    "random_like_rows = await get_random_rows('like', 10_000)\n",
    "random_bookmark_rows = await get_random_rows('bookmark', 10_000)\n",
    "\n",
    "await get_count_of_likes_for_movie(choice(random_like_rows)['movie_id'])\n",
    "await get_user_bookmarks(choice(random_bookmark_rows)['user_id'])\n",
    "\n",
    "random_user_id, random_movie_id = (uuid.uuid4(), uuid.uuid4())\n",
    "await add_like_to_movie(random_user_id, random_movie_id)\n",
    "await delete_like_from_movie(choice(random_like_rows)['user_id'], choice(random_bookmark_rows)['movie_id'])"
   ],
   "metadata": {
    "collapsed": false,
    "ExecuteTime": {
     "end_time": "2024-01-22T19:41:25.765420900Z",
     "start_time": "2024-01-22T19:39:38.179593100Z"
    }
   },
   "id": "d99d602ffb74d302",
   "execution_count": 14
  }
 ],
 "metadata": {
  "kernelspec": {
   "display_name": "Python 3 (ipykernel)",
   "language": "python",
   "name": "python3"
  },
  "language_info": {
   "codemirror_mode": {
    "name": "ipython",
    "version": 3
   },
   "file_extension": ".py",
   "mimetype": "text/x-python",
   "name": "python",
   "nbconvert_exporter": "python",
   "pygments_lexer": "ipython3",
   "version": "3.10.12"
  }
 },
 "nbformat": 4,
 "nbformat_minor": 5
}
