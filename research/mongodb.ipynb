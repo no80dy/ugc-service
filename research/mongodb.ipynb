{
 "cells": [
  {
   "cell_type": "markdown",
   "id": "eab2df8ed7b14c0",
   "metadata": {
    "collapsed": false
   },
   "source": [
    "## Исследование производительности работы с хранилищем MongoDB"
   ]
  },
  {
   "cell_type": "code",
   "execution_count": 2,
   "id": "initial_id",
   "metadata": {
    "ExecuteTime": {
     "end_time": "2024-01-22T18:53:35.629644900Z",
     "start_time": "2024-01-22T18:53:35.384715800Z"
    }
   },
   "outputs": [],
   "source": [
    "import uuid\n",
    "import time\n",
    "\n",
    "from typing import Any\n",
    "from functools import wraps\n",
    "from random import randint, choice\n",
    "from motor.motor_asyncio import AsyncIOMotorClient"
   ]
  },
  {
   "cell_type": "code",
   "execution_count": 3,
   "id": "eb4dd473c6113f84",
   "metadata": {
    "collapsed": false,
    "ExecuteTime": {
     "end_time": "2024-01-22T18:53:36.138811100Z",
     "start_time": "2024-01-22T18:53:36.024647300Z"
    }
   },
   "outputs": [
    {
     "data": {
      "text/plain": "'event_name_1_user_id_1'"
     },
     "execution_count": 3,
     "metadata": {},
     "output_type": "execute_result"
    }
   ],
   "source": [
    "client = AsyncIOMotorClient('mongodb://localhost:27017')\n",
    "database = client[\"moviesDb\"]\n",
    "collection = database[\"movies\"]\n",
    "\n",
    "await collection.create_index([('event_name', 1),])\n",
    "await collection.create_index([('event_name', 1), ('movie_id', 1), ])\n",
    "await collection.create_index([('event_name', 1), ('user_id', 1), ])"
   ]
  },
  {
   "cell_type": "code",
   "execution_count": 4,
   "id": "ad173c897dec2609",
   "metadata": {
    "collapsed": false,
    "ExecuteTime": {
     "end_time": "2024-01-22T18:53:46.869233100Z",
     "start_time": "2024-01-22T18:53:46.861163300Z"
    }
   },
   "outputs": [],
   "source": [
    "def benchmark(operation: str):\n",
    "    def decorator(func):\n",
    "        @wraps(func)\n",
    "        async def wrapper(*args, **kwargs):\n",
    "            start_time = time.perf_counter()\n",
    "            func_result = await func(*args, **kwargs)\n",
    "            end_time = time.perf_counter()\n",
    "            avg_time = end_time - start_time\n",
    "            print(f\"Время выполнения функции {operation} заняло {avg_time} cек.\")\n",
    "            return func_result\n",
    "        return wrapper\n",
    "    return decorator"
   ]
  },
  {
   "cell_type": "code",
   "execution_count": 27,
   "id": "1deceb8f0102eba8",
   "metadata": {
    "collapsed": false,
    "ExecuteTime": {
     "end_time": "2024-01-22T19:27:04.975620Z",
     "start_time": "2024-01-22T19:27:04.915877800Z"
    }
   },
   "outputs": [],
   "source": [
    "def generate_like():\n",
    "    return {\n",
    "        'event_name': 'like',\n",
    "        'user_id': str(uuid.uuid4()),\n",
    "        'movie_id': str(uuid.uuid4()),\n",
    "        'score': randint(0, 10)\n",
    "    }\n",
    "\n",
    "\n",
    "def generate_bookmark():\n",
    "    return {\n",
    "        'event_name': 'bookmark',\n",
    "        'user_id': str(uuid.uuid4()),\n",
    "        'movie_id': str(uuid.uuid4()),\n",
    "        'score': None\n",
    "    }\n",
    "\n",
    "\n",
    "async def generate_data_in_mongo(\n",
    "    generator: Any,\n",
    "    docs_count: int,\n",
    "    batch_size: int = 100\n",
    "):\n",
    "    docs = []\n",
    "    for _ in range(docs_count):\n",
    "        docs.append(generator())\n",
    "        if len(docs) >= batch_size:\n",
    "            await collection.insert_many(docs)\n",
    "            docs = []\n",
    "    if docs:\n",
    "        await collection.insert_many(docs)\n",
    "\n",
    "\n",
    "@benchmark(operation='Выбор рандомного списка элементов')\n",
    "async def get_random_event_docs(\n",
    "    event_name: str,\n",
    "    docs_count: int = 10\n",
    ") -> list[dict]:\n",
    "    cursor = collection.aggregate(\n",
    "\t\t[\n",
    "\t\t\t{'$match': {'event_name': event_name}},\n",
    "            {'$sample': {'size': docs_count}},\n",
    "        ]\n",
    "    )\n",
    "    return [_ async for _ in cursor]"
   ]
  },
  {
   "cell_type": "code",
   "execution_count": 28,
   "id": "92003488f09f596a",
   "metadata": {
    "collapsed": false,
    "ExecuteTime": {
     "end_time": "2024-01-22T19:27:06.158092200Z",
     "start_time": "2024-01-22T19:27:06.102588500Z"
    }
   },
   "outputs": [],
   "source": [
    "@benchmark(operation='Получение количества лайков для конкретного фильма')\n",
    "async def get_count_of_likes_for_movie(\n",
    "    movie_id: uuid.UUID\n",
    ") -> None:\n",
    "    return await collection.count_documents(\n",
    "        {'event_name': 'like', 'movie_id': str(movie_id)}\n",
    "    )\n",
    "\n",
    "\n",
    "@benchmark(operation='Получение списка закладок для рандомного пользователя')\n",
    "async def get_user_bookmarks(\n",
    "    user_id: uuid.UUID,\n",
    ") -> None:\n",
    "    await collection.aggregate(\n",
    "        [\n",
    "\t\t\t{\n",
    "                '$match': {\n",
    "                    'event_name': 'bookmark',\n",
    "                    'user_id': str(user_id)\n",
    "                }\n",
    "            },\n",
    "\t\t\t{'$limit': 10}\n",
    "        ]\n",
    "    ).to_list(10)\n",
    "\n",
    "\n",
    "@benchmark(operation='Добавление лайка пользователя для фильма')\n",
    "async def add_like_to_movie(\n",
    "    user_id: uuid.UUID,\n",
    "    movie_id: uuid.UUID\n",
    ") -> None:\n",
    "    await collection.insert_one(\n",
    "\t\t{\n",
    "            'event_name': 'like',\n",
    "            'user_id': str(user_id),\n",
    "            'movie_id': str(movie_id)\n",
    "        }\n",
    "    )\n",
    "\n",
    "\n",
    "@benchmark(operation='Удаление лайка пользователя для фильма')\n",
    "async def delete_like_from_movie(\n",
    "    user_id: uuid.UUID,\n",
    "    movie_id: uuid.UUID\n",
    ") -> None:\n",
    "    await collection.delete_one(\n",
    "\t\t{\n",
    "            'event_name': 'like',\n",
    "            'user_id': str(user_id),\n",
    "            'movie_id': str(movie_id)\n",
    "        }\n",
    "    )"
   ]
  },
  {
   "cell_type": "code",
   "execution_count": 31,
   "id": "8dad76f5ef5c979f",
   "metadata": {
    "collapsed": false,
    "ExecuteTime": {
     "end_time": "2024-01-22T19:32:51.870310900Z",
     "start_time": "2024-01-22T19:29:18.582571800Z"
    }
   },
   "outputs": [
    {
     "name": "stdout",
     "output_type": "stream",
     "text": [
      "Время выполнения функции Выбор рандомного списка элементов заняло 11.03542974299853 cек.\n",
      "Время выполнения функции Выбор рандомного списка элементов заняло 10.494517550998353 cек.\n",
      "Время выполнения функции Получение количества лайков для конкретного фильма заняло 0.0019902130006812513 cек.\n",
      "Время выполнения функции Получение списка закладок для рандомного пользователя заняло 0.0011761360001401044 cек.\n",
      "Время выполнения функции Добавление лайка пользователя для фильма заняло 0.0011731509985111188 cек.\n",
      "Время выполнения функции Удаление лайка пользователя для фильма заняло 0.0015051609989313874 cек.\n"
     ]
    }
   ],
   "source": [
    "for _ in range(100):\n",
    "    await generate_data_in_mongo(generate_like, 25_000, 25_000)\n",
    "    await generate_data_in_mongo(generate_bookmark, 25_000, 25_000)\n",
    "\n",
    "random_like_docs = await get_random_event_docs('like', docs_count=2)\n",
    "random_bookmark_docs = await get_random_event_docs('bookmark', docs_count=2)\n",
    "\n",
    "await get_count_of_likes_for_movie(choice(random_like_docs)['movie_id'])\n",
    "await get_user_bookmarks(choice(random_bookmark_docs)['user_id'])\n",
    "\n",
    "random_user_id, random_movie_id = (uuid.uuid4(), uuid.uuid4())\n",
    "await add_like_to_movie(random_user_id, random_movie_id)\n",
    "await delete_like_from_movie(\n",
    "    choice(random_like_docs)['user_id'],\n",
    "    choice(random_bookmark_docs)['movie_id']\n",
    ")"
   ]
  },
  {
   "cell_type": "markdown",
   "source": [
    "### Вывод\n",
    "Скорость чтения данных из MongoDB укладывается в требования (200мс)"
   ],
   "metadata": {
    "collapsed": false
   },
   "id": "d92aac4bb9469b88"
  }
 ],
 "metadata": {
  "kernelspec": {
   "display_name": "Python 3 (ipykernel)",
   "language": "python",
   "name": "python3"
  },
  "language_info": {
   "codemirror_mode": {
    "name": "ipython",
    "version": 3
   },
   "file_extension": ".py",
   "mimetype": "text/x-python",
   "name": "python",
   "nbconvert_exporter": "python",
   "pygments_lexer": "ipython3",
   "version": "3.10.12"
  }
 },
 "nbformat": 4,
 "nbformat_minor": 5
}
