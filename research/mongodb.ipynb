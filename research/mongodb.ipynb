{
 "cells": [
  {
   "cell_type": "markdown",
   "id": "eab2df8ed7b14c0",
   "metadata": {
    "collapsed": false
   },
   "source": [
    "## Исследование производительности работы с хранилищем MongoDB"
   ]
  },
  {
   "cell_type": "code",
   "execution_count": 8,
   "id": "initial_id",
   "metadata": {
    "ExecuteTime": {
     "end_time": "2024-01-21T15:33:53.329351400Z",
     "start_time": "2024-01-21T15:33:53.307916500Z"
    }
   },
   "outputs": [],
   "source": [
    "import uuid\n",
    "import time\n",
    "\n",
    "from typing import Any\n",
    "from functools import wraps\n",
    "from random import randint, choice\n",
    "from motor.motor_asyncio import AsyncIOMotorClient"
   ]
  },
  {
   "cell_type": "code",
   "execution_count": 9,
   "id": "eb4dd473c6113f84",
   "metadata": {
    "collapsed": false,
    "ExecuteTime": {
     "end_time": "2024-01-21T15:33:54.052596500Z",
     "start_time": "2024-01-21T15:33:54.013119Z"
    }
   },
   "outputs": [],
   "source": [
    "client = AsyncIOMotorClient('mongodb://localhost:27019,localhost:27020')\n",
    "database = client[\"moviesDb\"]\n",
    "collection = database[\"movies\"]"
   ]
  },
  {
   "cell_type": "code",
   "execution_count": 10,
   "id": "ad173c897dec2609",
   "metadata": {
    "collapsed": false,
    "ExecuteTime": {
     "end_time": "2024-01-21T15:33:54.769500700Z",
     "start_time": "2024-01-21T15:33:54.742781700Z"
    }
   },
   "outputs": [],
   "source": [
    "def benchmark(operation: str):\n",
    "    def decorator(func):\n",
    "        @wraps(func)\n",
    "        async def wrapper(*args, **kwargs):\n",
    "            start_time = time.perf_counter()\n",
    "            func_result = await func(*args, **kwargs)\n",
    "            end_time = time.perf_counter()\n",
    "            avg_time = end_time - start_time\n",
    "            print(f\"Время выполнения функции {operation} заняло {avg_time} cек.\")\n",
    "            return func_result\n",
    "        return wrapper\n",
    "    return decorator"
   ]
  },
  {
   "cell_type": "code",
   "execution_count": 11,
   "id": "1deceb8f0102eba8",
   "metadata": {
    "collapsed": false,
    "ExecuteTime": {
     "end_time": "2024-01-21T15:33:55.926563200Z",
     "start_time": "2024-01-21T15:33:55.812613100Z"
    }
   },
   "outputs": [],
   "source": [
    "def generate_like():\n",
    "    return {\n",
    "        'event_name': 'like',\n",
    "        'user_id': str(uuid.uuid4()),\n",
    "        'movie_id': str(uuid.uuid4()),\n",
    "        'score': randint(0, 10)\n",
    "    }\n",
    "\n",
    "\n",
    "def generate_bookmark():\n",
    "    return {\n",
    "        'event_name': 'bookmark',\n",
    "        'user_id': str(uuid.uuid4()),\n",
    "        'movie_id': str(uuid.uuid4())\n",
    "    }\n",
    "\n",
    "\n",
    "async def generate_data_in_mongo(\n",
    "    generator: Any,\n",
    "    docs_count: int,\n",
    "    batch_size: int = 100\n",
    "):\n",
    "    docs = []\n",
    "    for _ in range(docs_count):\n",
    "        docs.append(generator())\n",
    "        if len(docs) >= batch_size:\n",
    "            await collection.insert_many(docs)\n",
    "            docs = []\n",
    "    if docs:\n",
    "        await collection.insert_many(docs)\n",
    "\n",
    "\n",
    "async def get_random_event_docs(\n",
    "    event_name: str,\n",
    "    docs_count: int = 10\n",
    ") -> list[dict]:\n",
    "    return await collection.aggregate(\n",
    "\t\t[\n",
    "\t\t\t{'$match': {'event_name': event_name}},\n",
    "            {'$sample': {'size': docs_count}},\n",
    "        ]\n",
    "    ).to_list(docs_count)"
   ]
  },
  {
   "cell_type": "code",
   "execution_count": 12,
   "id": "92003488f09f596a",
   "metadata": {
    "collapsed": false,
    "ExecuteTime": {
     "end_time": "2024-01-21T15:33:57.799876100Z",
     "start_time": "2024-01-21T15:33:57.744509600Z"
    }
   },
   "outputs": [],
   "source": [
    "@benchmark(operation='Получение количества лайков для конкретного фильма')\n",
    "async def get_count_of_likes_for_movie(\n",
    "    movie_id: uuid.UUID\n",
    ") -> int:\n",
    "    return await collection.count_documents(\n",
    "        {'event_name': 'like', 'movie_id': str(movie_id)}\n",
    "    )\n",
    "\n",
    "\n",
    "@benchmark(operation='Получение списка закладок для рандомного пользователя')\n",
    "async def get_user_bookmarks(\n",
    "    user_id: uuid.UUID,\n",
    ") -> list:\n",
    "    cursor = collection.find(\n",
    "\t\t{'event_name': 'bookmark', 'user_id': str(user_id)}\n",
    "    )\n",
    "    return [doc async for doc in cursor]\n",
    "\n",
    "\n",
    "@benchmark(operation='Добавление лайка пользователя для фильма')\n",
    "async def add_like_to_movie(\n",
    "    user_id: uuid.UUID,\n",
    "    movie_id: uuid.UUID\n",
    ") -> None:\n",
    "    await collection.insert_one(\n",
    "\t\t{\n",
    "            'event_name': 'like',\n",
    "            'user_id': str(user_id),\n",
    "            'movie_id': str(movie_id)\n",
    "        }\n",
    "    )\n",
    "\n",
    "\n",
    "@benchmark(operation='Удаление лайка пользователя для фильма')\n",
    "async def delete_like_from_movie(\n",
    "    user_id: uuid.UUID,\n",
    "    movie_id: uuid.UUID\n",
    ") -> None:\n",
    "    await collection.delete_one(\n",
    "\t\t{\n",
    "            'event_name': 'like',\n",
    "            'user_id': str(user_id),\n",
    "            'movie_id': str(movie_id)\n",
    "        }\n",
    "    )"
   ]
  },
  {
   "cell_type": "code",
   "execution_count": 13,
   "id": "8dad76f5ef5c979f",
   "metadata": {
    "collapsed": false,
    "ExecuteTime": {
     "end_time": "2024-01-21T15:34:25.030394900Z",
     "start_time": "2024-01-21T15:34:00.004800300Z"
    }
   },
   "outputs": [
    {
     "name": "stdout",
     "output_type": "stream",
     "text": [
      "Время выполнения функции Получение количества лайков для конкретного фильма заняло 0.00999901500017586 cек.\n",
      "Время выполнения функции Получение списка закладок для рандомного пользователя заняло 0.2051694870006031 cек.\n",
      "Время выполнения функции Добавление лайка пользователя для фильма заняло 0.023002511999948183 cек.\n",
      "Время выполнения функции Удаление лайка пользователя для фильма заняло 0.008686141999532992 cек.\n"
     ]
    }
   ],
   "source": [
    "await generate_data_in_mongo(generate_like, 100_000, 500)\n",
    "await generate_data_in_mongo(generate_bookmark, 100_000, 500)\n",
    "\n",
    "random_like_docs = await get_random_event_docs('like')\n",
    "random_bookmark_docs = await get_random_event_docs('bookmark')\n",
    "\n",
    "await get_count_of_likes_for_movie(choice(random_like_docs)['movie_id'])\n",
    "await get_user_bookmarks(choice(random_bookmark_docs)['user_id'])\n",
    "\n",
    "random_user_id, random_movie_id = (uuid.uuid4(), uuid.uuid4())\n",
    "await add_like_to_movie(random_user_id, random_movie_id)\n",
    "await delete_like_from_movie(\n",
    "    choice(random_like_docs)['user_id'],\n",
    "    choice(random_bookmark_docs)['movie_id']\n",
    ")"
   ]
  },
  {
   "cell_type": "markdown",
   "source": [
    "### Вывод\n",
    "Скорость чтения данных из MongoDB укладывается в требования (200мс)"
   ],
   "metadata": {
    "collapsed": false
   },
   "id": "d92aac4bb9469b88"
  }
 ],
 "metadata": {
  "kernelspec": {
   "display_name": "Python 3 (ipykernel)",
   "language": "python",
   "name": "python3"
  },
  "language_info": {
   "codemirror_mode": {
    "name": "ipython",
    "version": 3
   },
   "file_extension": ".py",
   "mimetype": "text/x-python",
   "name": "python",
   "nbconvert_exporter": "python",
   "pygments_lexer": "ipython3",
   "version": "3.10.12"
  }
 },
 "nbformat": 4,
 "nbformat_minor": 5
}
